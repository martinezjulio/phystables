{
 "cells": [
  {
   "cell_type": "code",
   "execution_count": 3,
   "metadata": {},
   "outputs": [],
   "source": [
    "import pickle\n",
    "from phystables import BasicTable, SimpleTable, make_noisy\n",
    "from phystables.constants import *\n",
    "import define_tables\n",
    "from define_tables import WallData, GoalData, BallData, TableData\n",
    "import pygame as pg\n",
    "import argparse\n",
    "import numpy as np\n",
    "\n",
    "\n",
    "DEF_NOISE = {\n",
    "\"kapv\": KAPV_DEF, # VonMises precision on initial velocity angle estimation\n",
    "\"kapb\": KAPB_DEF, # VonMises precision on the bounce angle estimation\n",
    "\"kapm\": KAPM_DEF, # VonMises precision on the motion jitter\n",
    "\"perr\": PERR_DEF  # Gaussian error on initial position estimation\n",
    "}\n",
    "\n",
    "        \n",
    "def getTable(tables_file, table_id, trial_id, noisy):\n",
    "    \n",
    "    with open(tables_file, 'rb') as input:\n",
    "        tablesData = pickle.load(input)\n",
    "    tableData = tablesData[table_id]\n",
    "    \n",
    "    table = BasicTable(dims=tableData.dims)\n",
    "    for wall in tableData.walls:\n",
    "        table.add_wall(upperleft=wall.upperleft, lowerright=wall.lowerright)\n",
    "\n",
    "    for goal in tableData.goals:\n",
    "        table.add_goal(upperleft=goal.upperleft, lowerright=goal.lowerright, onreturn=goal.onreturn, color=goal.color)\n",
    "        \n",
    "    balls = tableData.balls\n",
    "    if trial_id == 0:\n",
    "        table.add_ball(initpos=balls[0].initpos, initvel=balls[0].initvel, color=balls[0].color)\n",
    "    elif trial_id == 1:\n",
    "        table.add_ball(initpos=balls[1].initpos, initvel=balls[1].initvel, color=balls[1].color)\n",
    "    else:\n",
    "        table.add_ball(initpos=balls[0].initpos, initvel=balls[0].initvel, color=balls[0].color)\n",
    "        table.add_ball(initpos=balls[1].initpos, initvel=balls[1].initvel, color=balls[1].color)\n",
    "        \n",
    "    if noisy:\n",
    "        table = make_noisy(table, **DEF_NOISE)\n",
    "    \n",
    "    return table\n",
    "\n",
    "def run_to_end(trial, max_time=10.):\n",
    "    while True:\n",
    "        r = trial.step(t=max_time, maxtime=max_time)\n",
    "        if r is not None:\n",
    "            if isinstance(r, list):\n",
    "                r = r[0]\n",
    "            return [r, trial.tm]\n",
    "    \n",
    "def run_simulations(tables_file, table_id, trial_id, noisy, num_simulations, max_time):    \n",
    "    table = getTable(tables_file, table_id, trial_id, noisy)\n",
    "    if noisy:\n",
    "        table = make_noisy(table, **DEF_NOISE)\n",
    "    simulations = []\n",
    "    for i in range(num_simulations):\n",
    "        ret, time = run_to_end(table, max_time)\n",
    "        outcome = get_const(ret)\n",
    "        ball = None\n",
    "        sample = (table_id, outcome, time, ball)\n",
    "        simulations.append(sample)\n",
    "    return simulations"
   ]
  },
  {
   "cell_type": "code",
   "execution_count": null,
   "metadata": {},
   "outputs": [],
   "source": []
  },
  {
   "cell_type": "code",
   "execution_count": null,
   "metadata": {},
   "outputs": [],
   "source": [
    "!python define_tables.py"
   ]
  },
  {
   "cell_type": "markdown",
   "metadata": {},
   "source": [
    "# Get Samples"
   ]
  },
  {
   "cell_type": "code",
   "execution_count": 4,
   "metadata": {},
   "outputs": [
    {
     "data": {
      "text/plain": [
       "[(0, 'TIMEUP', 10.000999999999896, None),\n",
       " (0, 'TIMEUP', 10.001999999999896, None),\n",
       " (0, 'TIMEUP', 10.002999999999895, None),\n",
       " (0, 'TIMEUP', 10.003999999999895, None),\n",
       " (0, 'TIMEUP', 10.004999999999894, None),\n",
       " (0, 'TIMEUP', 10.005999999999894, None),\n",
       " (0, 'TIMEUP', 10.006999999999893, None),\n",
       " (0, 'TIMEUP', 10.007999999999893, None),\n",
       " (0, 'TIMEUP', 10.008999999999892, None),\n",
       " (0, 'TIMEUP', 10.009999999999891, None)]"
      ]
     },
     "execution_count": 4,
     "metadata": {},
     "output_type": "execute_result"
    }
   ],
   "source": [
    "samples = run_simulations(tables_file='tables_metadata.pkl', \n",
    "                          table_id=0, \n",
    "                          trial_id=2, \n",
    "                          noisy=True, \n",
    "                          num_simulations=10, \n",
    "                          max_time=10)\n",
    "samples"
   ]
  },
  {
   "cell_type": "code",
   "execution_count": null,
   "metadata": {},
   "outputs": [],
   "source": []
  }
 ],
 "metadata": {
  "kernelspec": {
   "display_name": "Python 3",
   "language": "python",
   "name": "python3"
  },
  "language_info": {
   "codemirror_mode": {
    "name": "ipython",
    "version": 3
   },
   "file_extension": ".py",
   "mimetype": "text/x-python",
   "name": "python",
   "nbconvert_exporter": "python",
   "pygments_lexer": "ipython3",
   "version": "3.7.9"
  }
 },
 "nbformat": 4,
 "nbformat_minor": 4
}
