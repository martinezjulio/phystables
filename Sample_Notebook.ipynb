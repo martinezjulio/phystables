{
 "cells": [
  {
   "cell_type": "code",
   "execution_count": 2,
   "metadata": {},
   "outputs": [
    {
     "name": "stdout",
     "output_type": "stream",
     "text": [
      "pygame 2.0.0 (SDL 2.0.12, python 3.7.4)\n",
      "Hello from the pygame community. https://www.pygame.org/contribute.html\n",
      "Loading chipmunk for Darwin (64bit) [/opt/anaconda3/lib/python3.7/site-packages/pymunk/libchipmunk.dylib]\n"
     ]
    }
   ],
   "source": [
    "import pickle\n",
    "from phystables import BasicTable, SimpleTable, make_noisy\n",
    "from phystables.constants import *\n",
    "import define_tables\n",
    "from define_tables import WallData, GoalData, BallData, TableData\n",
    "import pygame as pg\n",
    "import argparse\n",
    "import numpy as np\n",
    "\n",
    "\n",
    "DEF_NOISE = {\n",
    "\"kapv\": KAPV_DEF, # VonMises precision on initial velocity angle estimation\n",
    "\"kapb\": KAPB_DEF, # VonMises precision on the bounce angle estimation\n",
    "\"kapm\": KAPM_DEF, # VonMises precision on the motion jitter\n",
    "\"perr\": PERR_DEF  # Gaussian error on initial position estimation\n",
    "}\n",
    "\n",
    "        \n",
    "def getTable(tables_file, table_id, trial_id, noisy):\n",
    "    '''\n",
    "    tables_file: File name with tables\n",
    "    table_id: Table from table_files\n",
    "    trial_id: Determines which simulation to run\n",
    "    noisy: T/F\n",
    "    '''\n",
    "    with open(tables_file, 'rb') as input:\n",
    "        tablesData = pickle.load(input)\n",
    "    tableData = tablesData[table_id]\n",
    "    \n",
    "    table = BasicTable(dims=tableData.dims)\n",
    "    for wall in tableData.walls:\n",
    "        table.add_wall(upperleft=wall.upperleft, lowerright=wall.lowerright)\n",
    "\n",
    "    for goal in tableData.goals:\n",
    "        table.add_goal(upperleft=goal.upperleft, lowerright=goal.lowerright, onreturn=goal.onreturn, color=goal.color)\n",
    "        \n",
    "    balls = tableData.balls\n",
    "    if trial_id == 0:\n",
    "        table.add_ball(initpos=balls[0].initpos, initvel=balls[0].initvel, color=balls[0].color)\n",
    "    elif trial_id == 1:\n",
    "        table.add_ball(initpos=balls[1].initpos, initvel=balls[1].initvel, color=balls[1].color)\n",
    "    else:\n",
    "        table.add_ball(initpos=balls[0].initpos, initvel=balls[0].initvel, color=balls[0].color)\n",
    "        table.add_ball(initpos=balls[1].initpos, initvel=balls[1].initvel, color=balls[1].color)\n",
    "        \n",
    "    if noisy:\n",
    "        table = make_noisy(table, **DEF_NOISE)\n",
    "    \n",
    "    return table\n",
    "\n",
    "def run_to_end(trial, max_time=10.):\n",
    "    while True:\n",
    "        r = trial.step(t=max_time, maxtime=max_time)\n",
    "        if r is not None:\n",
    "            if isinstance(r, list):\n",
    "                r = r[0]\n",
    "            return [r, trial.tm]\n",
    "    \n",
    "def run_simulations(tables_file, table_id, trial_id, noisy, num_simulations, max_time):    \n",
    "    table = getTable(tables_file, table_id, trial_id, noisy)\n",
    "    if noisy:\n",
    "        table = make_noisy(table, **DEF_NOISE)\n",
    "    simulations = []\n",
    "    for i in range(num_simulations):\n",
    "        ret, time = run_to_end(table, max_time)\n",
    "        outcome = get_const(ret)\n",
    "        ball = None\n",
    "        sample = (table_id, outcome, time, ball)\n",
    "        simulations.append(sample)\n",
    "    return simulations"
   ]
  },
  {
   "cell_type": "code",
   "execution_count": 3,
   "metadata": {},
   "outputs": [],
   "source": [
    "def vis_trial(trial, noisy=False):\n",
    "    pg.init()\n",
    "    sc = pg.display.set_mode((1000,600))\n",
    "    if noisy:\n",
    "        trial = make_noisy(trial, **DEF_NOISE)\n",
    "    trial.assign_surface(sc)\n",
    "    trial.demonstrate()"
   ]
  },
  {
   "cell_type": "code",
   "execution_count": 17,
   "metadata": {},
   "outputs": [],
   "source": [
    "table = getTable(tables_file='tables_metadata.pkl',\n",
    "                table_id=0,\n",
    "                trial_id=-1,\n",
    "                noisy=True)\n",
    "vis_trial(table, noisy=True)"
   ]
  },
  {
   "cell_type": "code",
   "execution_count": 4,
   "metadata": {},
   "outputs": [
    {
     "name": "stdout",
     "output_type": "stream",
     "text": [
      "pygame 2.0.0 (SDL 2.0.12, python 3.7.4)\n",
      "Hello from the pygame community. https://www.pygame.org/contribute.html\n",
      "Loading chipmunk for Darwin (64bit) [/opt/anaconda3/lib/python3.7/site-packages/pymunk/libchipmunk.dylib]\n"
     ]
    }
   ],
   "source": [
    "!python define_tables.py"
   ]
  },
  {
   "cell_type": "markdown",
   "metadata": {},
   "source": [
    "# Get Samples"
   ]
  },
  {
   "cell_type": "code",
   "execution_count": 29,
   "metadata": {
    "scrolled": true
   },
   "outputs": [],
   "source": [
    "samples1 = run_simulations(tables_file='tables_metadata.pkl', \n",
    "                          table_id=0, \n",
    "                          trial_id=0, \n",
    "                          noisy=True, \n",
    "                          num_simulations=10000, \n",
    "                          max_time=10)\n",
    "\n",
    "samples2 = run_simulations(tables_file='tables_metadata.pkl', \n",
    "                          table_id=0, \n",
    "                          trial_id=1, \n",
    "                          noisy=True, \n",
    "                          num_simulations=10000, \n",
    "                          max_time=10);"
   ]
  },
  {
   "cell_type": "code",
   "execution_count": 21,
   "metadata": {},
   "outputs": [
    {
     "name": "stdout",
     "output_type": "stream",
     "text": [
      "[<define_tables.TableData object at 0x102bfb190>]\n"
     ]
    }
   ],
   "source": [
    "with open('tables_metadata.pkl', 'rb') as input:\n",
    "        tablesData = pickle.load(input)\n",
    "print(tablesData)"
   ]
  },
  {
   "cell_type": "code",
   "execution_count": 9,
   "metadata": {},
   "outputs": [],
   "source": []
  },
  {
   "cell_type": "code",
   "execution_count": 34,
   "metadata": {},
   "outputs": [],
   "source": [
    "################\n",
    "# Small Oracle #\n",
    "################\n",
    "\n",
    "import random\n",
    "\n",
    "def small_oracle(samples, num_sim_1, num_sim_2, iters=1000):\n",
    "    '''\n",
    "    samples:        Pre-run samples to draw from, list [Ball_1, Ball_2]\n",
    "    num_sim_1:      Number of simulations for ball 1\n",
    "    num_sim_2:      Number of simulations for ball 2\n",
    "    samples:        Number of samples (each sample has num_sim_1 + 2 sims)\n",
    "    Return tuple(# green wins, # red wins, avg total time)\n",
    "    # green wins:   Number of samples where #G > #R + 0.5 * ties\n",
    "    # red wins:     Number of samples where #G < #R + 0.5 * ties\n",
    "    avg total time: Average total time for a sample\n",
    "    '''\n",
    "    g_wins = 0  # track green wins\n",
    "    r_wins = 0  # track red wins\n",
    "    total_time = 0  # total time\n",
    "\n",
    "    for _ in range(iters):  # get samples\n",
    "        # wins for a fixed sample\n",
    "        sample_g_wins = 0\n",
    "        sample_r_wins = 0\n",
    "        sample_time = 0\n",
    "        # simulations for ball 1\n",
    "        for sim_1 in range(num_sim_1):\n",
    "            table_id, outcome, time, ball = random.choice(samples[0])\n",
    "            if outcome == 'GREENGOAL':\n",
    "                sample_g_wins += 1\n",
    "            if outcome == 'REDGOAL':\n",
    "                sample_r_wins += 1\n",
    "            sample_time += time\n",
    "        # simulations for ball 2\n",
    "        for sim_2 in range(num_sim_2):\n",
    "            table_id, outcome, time, ball = random.choice(samples[1])\n",
    "            if outcome == 'GREENGOAL':\n",
    "                sample_g_wins += 1\n",
    "            if outcome == 'REDGOAL':\n",
    "                sample_r_wins += 1\n",
    "            sample_time += time\n",
    "        if sample_g_wins > sample_r_wins:\n",
    "            g_wins += 1\n",
    "        if sample_g_wins < sample_r_wins:\n",
    "            r_wins += 1\n",
    "        if sample_g_wins == sample_r_wins:\n",
    "            g_wins += 0.5\n",
    "            r_wins += 0.5\n",
    "        total_time += sample_time\n",
    "    return (g_wins/iters, r_wins/iters, total_time/iters)"
   ]
  },
  {
   "cell_type": "code",
   "execution_count": 40,
   "metadata": {},
   "outputs": [
    {
     "data": {
      "text/plain": [
       "(0.82505, 0.17495, 283.85228469997077)"
      ]
     },
     "execution_count": 40,
     "metadata": {},
     "output_type": "execute_result"
    }
   ],
   "source": [
    "small_oracle([samples1, samples2], 10, 10, 10000)"
   ]
  },
  {
   "cell_type": "code",
   "execution_count": null,
   "metadata": {},
   "outputs": [],
   "source": []
  }
 ],
 "metadata": {
  "kernelspec": {
   "display_name": "Python 3",
   "language": "python",
   "name": "python3"
  },
  "language_info": {
   "codemirror_mode": {
    "name": "ipython",
    "version": 3
   },
   "file_extension": ".py",
   "mimetype": "text/x-python",
   "name": "python",
   "nbconvert_exporter": "python",
   "pygments_lexer": "ipython3",
   "version": "3.7.4"
  }
 },
 "nbformat": 4,
 "nbformat_minor": 4
}
